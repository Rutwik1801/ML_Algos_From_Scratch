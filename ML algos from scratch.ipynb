{
 "cells": [
  {
   "cell_type": "markdown",
   "id": "ab166157",
   "metadata": {},
   "source": [
    "# K Nearest Neighbours "
   ]
  },
  {
   "cell_type": "code",
   "execution_count": 1,
   "id": "80eec207",
   "metadata": {},
   "outputs": [],
   "source": [
    "import numpy as np\n",
    "import pandas as pd\n",
    "import seaborn as sns\n",
    "from collections import Counter\n",
    "from sklearn import datasets\n",
    "import matplotlib.pyplot as plt\n",
    "from matplotlib.colors import ListedColormap\n",
    "from sklearn.model_selection import train_test_split\n",
    "%matplotlib inline"
   ]
  },
  {
   "cell_type": "code",
   "execution_count": 50,
   "id": "eef5d5e5",
   "metadata": {},
   "outputs": [
    {
     "data": {
      "text/plain": [
       "<matplotlib.collections.PathCollection at 0x26bbed38d60>"
      ]
     },
     "execution_count": 50,
     "metadata": {},
     "output_type": "execute_result"
    },
    {
     "data": {
      "image/png": "[encoded data removed]",
      "text/plain": [
       "<Figure size 576x288 with 1 Axes>"
      ]
     },
     "metadata": {
      "needs_background": "light"
     },
     "output_type": "display_data"
    }
   ],
   "source": [
    "#using the iris dataset\n",
    "\n",
    "cmap=ListedColormap(['#FF0000','#00FF00','#0000FF'])\n",
    "iris=datasets.load_iris()\n",
    "X,y=iris.data,iris.target\n",
    "X_train,X_test,y_train,y_test=train_test_split(X,y,test_size=0.2,random_state=1234)\n",
    "\n",
    "# print(X)\n",
    "plt.figure(figsize=(8,4))\n",
    "plt.scatter(X[:,1],X[:,3],c=y,cmap=cmap,edgecolor='k',s=20)"
   ]
  },
  {
   "cell_type": "code",
   "execution_count": null,
   "id": "a2033dd3",
   "metadata": {},
   "outputs": [],
   "source": [
    "#KNN:-K Nearest Neighbours\n",
    "#uses Euclidean distance to calculate the nearest neighbours and classify the given point\n",
    "\n",
    "def euclidean_distance(x1,x2):\n",
    "    return np.sqrt(np.sum((x1-x2)**2))\n",
    "\n",
    "class KNN:\n",
    "    def __init__(self,k=3):\n",
    "        self.k=k\n",
    "    def fit(self,X,y):\n",
    "        self.X_train=X\n",
    "        self.y_train=y\n",
    "    \n",
    "    def predict(self,X):\n",
    "        predicted_labels=[self._predict(x) for x in X]\n",
    "        return np.array(predicted_labels)\n",
    "    def _predict(self,x):\n",
    "        \n",
    "        #compute distances\n",
    "            distances=[euclidean_distance(x,x_train) for x_train in self.X_train]\n",
    "        #get k nearest samples and their respective labels\n",
    "            k_indices=np.argsort(distances)[:self.k];\n",
    "            k_nearest_labels=[self.y_train[i] for i in k_indices]\n",
    "        #majority vote, getting the most common class label\n",
    "            most_common=Counter(k_nearest_labels).most_common(1)\n",
    "            return most_common[0][0]    "
   ]
  },
  {
   "cell_type": "code",
   "execution_count": null,
   "id": "7d3ae15e",
   "metadata": {},
   "outputs": [],
   "source": [
    "#working of Counter demonstration\n",
    "#it gives a list of tuples consisting of thye item and the no of times it is repeated\n",
    "\n",
    "a=[6,6,6,2,2,3,3,4]\n",
    "most_common=Counter(a).most_common(2)\n",
    "print(most_common)"
   ]
  },
  {
   "cell_type": "code",
   "execution_count": 38,
   "id": "90ba9f33",
   "metadata": {},
   "outputs": [
    {
     "name": "stdout",
     "output_type": "stream",
     "text": [
      "1.0\n"
     ]
    }
   ],
   "source": [
    "clf=KNN(k=3)\n",
    "clf.fit(X_train,y_train)\n",
    "predictions=clf.predict(X_test)\n",
    "\n",
    "#accuracy is calculated by \n",
    "#taking the sum of all the instances where predict \n",
    "#value is equal to the y_test value and dividing it by the number of values\n",
    "\n",
    "acc=np.sum(predictions==y_test)/len(y_test)\n",
    "print(acc)"
   ]
  },
  {
   "cell_type": "code",
   "execution_count": 9,
   "id": "c586edb7",
   "metadata": {},
   "outputs": [],
   "source": [
    "#self keyword is passed to all the methods to make them non-static"
   ]
  },
  {
   "cell_type": "code",
   "execution_count": 10,
   "id": "e4e396be",
   "metadata": {},
   "outputs": [],
   "source": [
    "data=pd.read_csv(\"Prostate_Cancer.csv\")"
   ]
  },
  {
   "cell_type": "code",
   "execution_count": 11,
   "id": "63a496ee",
   "metadata": {},
   "outputs": [
    {
     "data": {
      "text/html": [
       "<div>\n",
       "<style scoped>\n",
       "    .dataframe tbody tr th:only-of-type {\n",
       "        vertical-align: middle;\n",
       "    }\n",
       "\n",
       "    .dataframe tbody tr th {\n",
       "        vertical-align: top;\n",
       "    }\n",
       "\n",
       "    .dataframe thead th {\n",
       "        text-align: right;\n",
       "    }\n",
       "</style>\n",
       "<table border=\"1\" class=\"dataframe\">\n",
       "  <thead>\n",
       "    <tr style=\"text-align: right;\">\n",
       "      <th></th>\n",
       "      <th>id</th>\n",
       "      <th>diagnosis_result</th>\n",
       "      <th>radius</th>\n",
       "      <th>texture</th>\n",
       "      <th>perimeter</th>\n",
       "      <th>area</th>\n",
       "      <th>smoothness</th>\n",
       "      <th>compactness</th>\n",
       "      <th>symmetry</th>\n",
       "      <th>fractal_dimension</th>\n",
       "    </tr>\n",
       "  </thead>\n",
       "  <tbody>\n",
       "    <tr>\n",
       "      <th>0</th>\n",
       "      <td>1</td>\n",
       "      <td>M</td>\n",
       "      <td>23</td>\n",
       "      <td>12</td>\n",
       "      <td>151</td>\n",
       "      <td>954</td>\n",
       "      <td>0.143</td>\n",
       "      <td>0.278</td>\n",
       "      <td>0.242</td>\n",
       "      <td>0.079</td>\n",
       "    </tr>\n",
       "    <tr>\n",
       "      <th>1</th>\n",
       "      <td>2</td>\n",
       "      <td>B</td>\n",
       "      <td>9</td>\n",
       "      <td>13</td>\n",
       "      <td>133</td>\n",
       "      <td>1326</td>\n",
       "      <td>0.143</td>\n",
       "      <td>0.079</td>\n",
       "      <td>0.181</td>\n",
       "      <td>0.057</td>\n",
       "    </tr>\n",
       "    <tr>\n",
       "      <th>2</th>\n",
       "      <td>3</td>\n",
       "      <td>M</td>\n",
       "      <td>21</td>\n",
       "      <td>27</td>\n",
       "      <td>130</td>\n",
       "      <td>1203</td>\n",
       "      <td>0.125</td>\n",
       "      <td>0.160</td>\n",
       "      <td>0.207</td>\n",
       "      <td>0.060</td>\n",
       "    </tr>\n",
       "    <tr>\n",
       "      <th>3</th>\n",
       "      <td>4</td>\n",
       "      <td>M</td>\n",
       "      <td>14</td>\n",
       "      <td>16</td>\n",
       "      <td>78</td>\n",
       "      <td>386</td>\n",
       "      <td>0.070</td>\n",
       "      <td>0.284</td>\n",
       "      <td>0.260</td>\n",
       "      <td>0.097</td>\n",
       "    </tr>\n",
       "    <tr>\n",
       "      <th>4</th>\n",
       "      <td>5</td>\n",
       "      <td>M</td>\n",
       "      <td>9</td>\n",
       "      <td>19</td>\n",
       "      <td>135</td>\n",
       "      <td>1297</td>\n",
       "      <td>0.141</td>\n",
       "      <td>0.133</td>\n",
       "      <td>0.181</td>\n",
       "      <td>0.059</td>\n",
       "    </tr>\n",
       "  </tbody>\n",
       "</table>\n",
       "</div>"
      ],
      "text/plain": [
       "   id diagnosis_result  radius  texture  perimeter  area  smoothness  \\\n",
       "0   1                M      23       12        151   954       0.143   \n",
       "1   2                B       9       13        133  1326       0.143   \n",
       "2   3                M      21       27        130  1203       0.125   \n",
       "3   4                M      14       16         78   386       0.070   \n",
       "4   5                M       9       19        135  1297       0.141   \n",
       "\n",
       "   compactness  symmetry  fractal_dimension  \n",
       "0        0.278     0.242              0.079  \n",
       "1        0.079     0.181              0.057  \n",
       "2        0.160     0.207              0.060  \n",
       "3        0.284     0.260              0.097  \n",
       "4        0.133     0.181              0.059  "
      ]
     },
     "execution_count": 11,
     "metadata": {},
     "output_type": "execute_result"
    }
   ],
   "source": [
    "data.head()"
   ]
  },
  {
   "cell_type": "code",
   "execution_count": 12,
   "id": "a2cba1b4",
   "metadata": {},
   "outputs": [],
   "source": [
    "def categorise(row):\n",
    "    if row['diagnosis_result']=='M':\n",
    "        return int(1)\n",
    "    else:\n",
    "        return int(2)\n",
    "data['result'] = data.apply(lambda row: categorise(row), axis=1)"
   ]
  },
  {
   "cell_type": "code",
   "execution_count": 13,
   "id": "1109bd3f",
   "metadata": {},
   "outputs": [
    {
     "name": "stdout",
     "output_type": "stream",
     "text": [
      "<class 'pandas.core.frame.DataFrame'>\n",
      "RangeIndex: 100 entries, 0 to 99\n",
      "Data columns (total 11 columns):\n",
      " #   Column             Non-Null Count  Dtype  \n",
      "---  ------             --------------  -----  \n",
      " 0   id                 100 non-null    int64  \n",
      " 1   diagnosis_result   100 non-null    object \n",
      " 2   radius             100 non-null    int64  \n",
      " 3   texture            100 non-null    int64  \n",
      " 4   perimeter          100 non-null    int64  \n",
      " 5   area               100 non-null    int64  \n",
      " 6   smoothness         100 non-null    float64\n",
      " 7   compactness        100 non-null    float64\n",
      " 8   symmetry           100 non-null    float64\n",
      " 9   fractal_dimension  100 non-null    float64\n",
      " 10  result             100 non-null    int64  \n",
      "dtypes: float64(4), int64(6), object(1)\n",
      "memory usage: 8.7+ KB\n"
     ]
    }
   ],
   "source": [
    "y=data['result']\n",
    "X=data.drop(columns=[\"diagnosis_result\",\"result\"],axis=1)\n",
    "X_train,X_test,y_train,y_test=train_test_split(X,y,test_size=0.2,random_state=1234)\n",
    "data.info()"
   ]
  },
  {
   "cell_type": "code",
   "execution_count": 14,
   "id": "2de93806",
   "metadata": {},
   "outputs": [],
   "source": [
    "clf=KNN(k=int(len(X_train)**0.5))\n",
    "clf.fit(X_train,y_train)\n",
    "#predictions=clf.predict(X_test)"
   ]
  },
  {
   "cell_type": "code",
   "execution_count": 15,
   "id": "b8e7439e",
   "metadata": {},
   "outputs": [
    {
     "ename": "AttributeError",
     "evalue": "module 'matplotlib.pyplot' has no attribute 'fig'",
     "output_type": "error",
     "traceback": [
      "\u001b[1;31m---------------------------------------------------------------------------\u001b[0m",
      "\u001b[1;31mAttributeError\u001b[0m                            Traceback (most recent call last)",
      "Input \u001b[1;32mIn [15]\u001b[0m, in \u001b[0;36m<cell line: 1>\u001b[1;34m()\u001b[0m\n\u001b[1;32m----> 1\u001b[0m \u001b[43mplt\u001b[49m\u001b[38;5;241;43m.\u001b[39;49m\u001b[43mfig\u001b[49m\n\u001b[0;32m      2\u001b[0m sns\u001b[38;5;241m.\u001b[39mheatmap(data\u001b[38;5;241m.\u001b[39mcorr(),annot\u001b[38;5;241m=\u001b[39m\u001b[38;5;28;01mTrue\u001b[39;00m)\n",
      "\u001b[1;31mAttributeError\u001b[0m: module 'matplotlib.pyplot' has no attribute 'fig'"
     ]
    }
   ],
   "source": [
    "sns.heatmap(data.corr(),annot=True)"
   ]
  },
  {
   "cell_type": "markdown",
   "id": "a0fb45f7",
   "metadata": {},
   "source": [
    "# Linear Regression\n"
   ]
  },
  {
   "cell_type": "code",
   "execution_count": 22,
   "id": "1eae2b93",
   "metadata": {},
   "outputs": [],
   "source": [
    "class LinearRegression:\n",
    "    def predict(self,X):\n",
    "        y_predicted=np.dot(X,self.weights)+self.bias\n",
    "        return y_predicted\n",
    "    def __init__(self,lr=0.001,n_iters=1000):\n",
    "        self.lr=lr\n",
    "        self.n_iters=n_iters\n",
    "        self.weights=None\n",
    "        self.bias=None\n",
    "     \n",
    "    def fit(self,X,y):\n",
    "        #we implement gradient descent here\n",
    "        \n",
    "        #initialize parameters\n",
    "        n_samples,n_features=X.shape\n",
    "        self.weights=np.zeros(n_features)\n",
    "        self.bias=0\n",
    "        \n",
    "        for _ in range(self.n_iters):\n",
    "            y_predicted=np.dot(X,self.weights) + self.bias\n",
    "            \n",
    "            dw=(1/n_samples)*np.dot(X.T,(y_predicted-y))\n",
    "            db=(1/n_samples)*np.sum(y_predicted-y)\n",
    "            \n",
    "            self.weights-=self.lr*dw\n",
    "            self.bias-=self.lr*db       "
   ]
  },
  {
   "cell_type": "code",
   "execution_count": 23,
   "id": "42bbf8fc",
   "metadata": {},
   "outputs": [
    {
     "data": {
      "image/png": "[encoded data removed]",
      "text/plain": [
       "<Figure size 576x432 with 1 Axes>"
      ]
     },
     "metadata": {
      "needs_background": "light"
     },
     "output_type": "display_data"
    },
    {
     "name": "stdout",
     "output_type": "stream",
     "text": [
      "(80, 1)\n",
      "(80,)\n"
     ]
    }
   ],
   "source": [
    "X,y=datasets.make_regression(n_samples=100,n_features=1,noise=20,random_state=4)\n",
    "X_train,X_test,y_train,y_test=train_test_split(X,y,test_size=0.2,random_state=1234)\n",
    "\n",
    "fig=plt.figure(figsize=(8,6))\n",
    "plt.scatter(X[:,0],y,color=\"b\",marker=\"o\",s=30)\n",
    "plt.show()\n",
    "print(X_train.shape)\n",
    "print(y_train.shape)"
   ]
  },
  {
   "cell_type": "code",
   "execution_count": 25,
   "id": "43f87a77",
   "metadata": {},
   "outputs": [
    {
     "name": "stdout",
     "output_type": "stream",
     "text": [
      "305.7719958301902\n"
     ]
    }
   ],
   "source": [
    "regressor=LinearRegression(lr=0.01)\n",
    "regressor.fit(X_train,y_train)\n",
    "predicted=regressor.predict(X_test)\n",
    "\n",
    "def mse(y_true,y_predicted):\n",
    "    return np.mean((y_true-y_predicted)**2)\n",
    "mse_value=mse(y_test,predicted)\n",
    "print(mse_value)"
   ]
  },
  {
   "cell_type": "code",
   "execution_count": 27,
   "id": "60a078a3",
   "metadata": {},
   "outputs": [
    {
     "data": {
      "image/png": "[encoded data removed]",
      "text/plain": [
       "<Figure size 576x432 with 1 Axes>"
      ]
     },
     "metadata": {
      "needs_background": "light"
     },
     "output_type": "display_data"
    }
   ],
   "source": [
    "y_pred_line=regressor.predict(X)\n",
    "cmap=plt.get_cmap('viridis')\n",
    "fig=plt.figure(figsize=(8,6))\n",
    "m1=plt.scatter(X_train,y_train,color=cmap(0.9),s=10)\n",
    "m2=plt.scatter(X_test,y_test,color='black',linewidth=2,label=\"Prediction\")\n",
    "plt.plot(X,y_pred_line,color='black',linewidth=2,label=\"Prediction\")\n",
    "plt.show()"
   ]
  },
  {
   "cell_type": "code",
   "execution_count": 33,
   "id": "942d1699",
   "metadata": {},
   "outputs": [
    {
     "data": {
      "text/plain": [
       "Text(0, 0.5, 'Residual')"
      ]
     },
     "execution_count": 33,
     "metadata": {},
     "output_type": "execute_result"
    },
    {
     "data": {
      "image/png": "[encoded data removed]",
      "text/plain": [
       "<Figure size 432x288 with 1 Axes>"
      ]
     },
     "metadata": {
      "needs_background": "light"
     },
     "output_type": "display_data"
    }
   ],
   "source": [
    "#Residual Analysis\n",
    "\n",
    "plt.scatter(predicted,predicted-y_test,c='g',s=40)\n",
    "plt.hlines(y=0,xmin=-100,xmax=150)\n",
    "plt.title(\"Residual Plot\")\n",
    "plt.ylabel(\"Residual\")"
   ]
  },
  {
   "cell_type": "markdown",
   "id": "9a557a2c",
   "metadata": {},
   "source": [
    "# Logistic Regression "
   ]
  },
  {
   "cell_type": "code",
   "execution_count": 46,
   "id": "89f72c07",
   "metadata": {},
   "outputs": [],
   "source": [
    "class LogisticRegression:\n",
    "    def  __init__(self,lr=0.001,n_iters=1000):\n",
    "        self.lr=lr\n",
    "        self.n_iters=n_iters\n",
    "        self.weights=None\n",
    "        self.bias=None  \n",
    "    def fit(self,X,y):\n",
    "        #init parameters\n",
    "        n_samples,n_features=X.shape\n",
    "        self.weights=np.zeros(n_features)\n",
    "        self.bias=0\n",
    "        \n",
    "        #gradient descent\n",
    "        for _ in range(self.n_iters):\n",
    "            linear_model=np.dot(X,self.weights)+self.bias\n",
    "            y_predicted=self._sigmoid(linear_model) \n",
    "            \n",
    "            dw=(1/n_samples)*np.dot(X.T,(y_predicted-y))\n",
    "            db=(1/n_samples)*np.sum(y_predicted-y)\n",
    "            self.weights-=self.lr*dw\n",
    "            self.bias-=self.lr*db\n",
    "    def predict(self,X): \n",
    "            linear_model=np.dot(X,self.weights)+self.bias\n",
    "            y_predicted=self._sigmoid(linear_model) \n",
    "            y_predicted_cls=[1 if i>0.5 else 0 for i in y_predicted]\n",
    "            return y_predicted_cls\n",
    "    def _sigmoid(self,x):\n",
    "        return 1/(1+np.exp(-x))"
   ]
  },
  {
   "cell_type": "code",
   "execution_count": 47,
   "id": "ae1a2235",
   "metadata": {},
   "outputs": [
    {
     "name": "stdout",
     "output_type": "stream",
     "text": [
      "0.43333333333333335\n"
     ]
    }
   ],
   "source": [
    "bc=datasets.load_breast_cancer()\n",
    "X,y=iris.data,iris.target\n",
    "\n",
    "X_train,X_test,y_train,y_test=train_test_split(X,y,test_size=0.2,random_state=1234)\n",
    "\n",
    "def accuracy(y_true,y_pred):\n",
    "    accuracy=np.sum(y_true==y_pred)/len(y_true)\n",
    "    return accuracy\n",
    "\n",
    "regressor=LogisticRegression()\n",
    "regressor.fit(X_train,y_train)\n",
    "predictions=regressor.predict(X_test)\n",
    "\n",
    "print(accuracy(y_test,predictions))"
   ]
  },
  {
   "cell_type": "code",
   "execution_count": null,
   "id": "b4c1f20c",
   "metadata": {},
   "outputs": [],
   "source": []
  },
  {
   "cell_type": "code",
   "execution_count": null,
   "id": "93b07f96",
   "metadata": {},
   "outputs": [],
   "source": []
  }
 ],
 "metadata": {
  "kernelspec": {
   "display_name": "Python 3 (ipykernel)",
   "language": "python",
   "name": "python3"
  },
  "language_info": {
   "codemirror_mode": {
    "name": "ipython",
    "version": 3
   },
   "file_extension": ".py",
   "mimetype": "text/x-python",
   "name": "python",
   "nbconvert_exporter": "python",
   "pygments_lexer": "ipython3",
   "version": "3.9.12"
  }
 },
 "nbformat": 4,
 "nbformat_minor": 5
}
